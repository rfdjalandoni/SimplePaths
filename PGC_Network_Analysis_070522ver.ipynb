{
  "nbformat": 4,
  "nbformat_minor": 0,
  "metadata": {
    "colab": {
      "name": "PGC-Network-Analysis-070522ver.ipynb",
      "provenance": [],
      "collapsed_sections": [],
      "include_colab_link": true
    },
    "kernelspec": {
      "name": "python3",
      "display_name": "Python 3"
    },
    "language_info": {
      "name": "python"
    }
  },
  "cells": [
    {
      "cell_type": "markdown",
      "metadata": {
        "id": "view-in-github",
        "colab_type": "text"
      },
      "source": [
        "<a href=\"https://colab.research.google.com/github/rfdjalandoni/SimplePaths/blob/main/PGC_Network_Analysis_070522ver.ipynb\" target=\"_parent\"><img src=\"https://colab.research.google.com/assets/colab-badge.svg\" alt=\"Open In Colab\"/></a>"
      ]
    },
    {
      "cell_type": "code",
      "execution_count": null,
      "metadata": {
        "colab": {
          "base_uri": "https://localhost:8080/"
        },
        "id": "3DrfGFdgPzMG",
        "outputId": "e868eeff-306a-4888-e24b-7a50ff0cded0"
      },
      "outputs": [
        {
          "output_type": "stream",
          "name": "stdout",
          "text": [
            "Mounted at /content/drive\n"
          ]
        }
      ],
      "source": [
        "# importing necessary libraries. Be careful not to delete any lines\n",
        "import numpy as np\n",
        "import pandas as pd\n",
        "import networkx as nx\n",
        "import operator\n",
        "import collections\n",
        "import scipy.stats as ss\n",
        "from google.colab import drive\n",
        "drive.mount('/content/drive',force_remount=True)"
      ]
    },
    {
      "cell_type": "code",
      "source": [
        "#@title Simple Paths Algorithm function; Run this code block\n",
        "\n",
        "def find_simple_paths(start_node, end_node,start_col, end_col, path,save_path, cutoff_length,directed, res=[]):\n",
        "    data = pd.read_excel(path)\n",
        "    rows=len(data)\n",
        "    src_nodes=np.asarray(data.iloc[0:rows,start_col-1]) # extract the nodes from database\n",
        "    trg_nodes=np.asarray(data.iloc[0:rows,end_col-1])\n",
        "    if directed==True:\n",
        "        G=nx.DiGraph() # uncomment for directed network\n",
        "        mode = 'directed'\n",
        "    else:\n",
        "        G=nx.Graph() # uncomment for undirected network\n",
        "        mode = 'undirected'\n",
        "    for i in range(len(src_nodes)):\n",
        "        if src_nodes[i] in res or trg_nodes[i] in res :\n",
        "            pass\n",
        "        else:\n",
        "            G.add_edge(src_nodes[i],trg_nodes[i] , weight=1)\n",
        "    path_list=list(nx.all_simple_paths(G, start_node, end_node, cutoff=cutoff_length-1)) ## Run this to execute simple paths algorithm\n",
        "\n",
        "    ### Saving only the paths with length=cutoff_length. Lengths lesser than cutoff_length are not saved.\n",
        "    ### Here, the results are also converted as a dataframe which is read as a table\n",
        "    ### Upon saving, headers are also add: Node1, Node2, etc.\n",
        "    ### Here you can change the file name for the excel file of the results first before running the code block\n",
        "\n",
        "    paths_of_interest=np.array([i for i in path_list if len(i)==cutoff_length])\n",
        "    nodenum_as_col=paths_of_interest.T\n",
        "    data_to_dict={'Node'+str(i+1):paths_of_interest.T[i] for i in range(len(paths_of_interest.T))}\n",
        "    dict_to_df = pd.DataFrame(data_to_dict)\n",
        "\n",
        "    ## this next line creates an excel file of the paths with length=cutoff_length\n",
        "\n",
        "    dict_to_df.to_excel(save_path+start_node+\"_to_\"+end_node+\"_l\"+str(cutoff_length)+\"simple_path\"+mode+\".xlsx\")\n",
        "    dict_to_df.to_csv(save_path+start_node+\"_to_\"+end_node+\"_l\"+str(cutoff_length)+\"simple_path\"+mode+\".csv\")\n",
        "\n",
        "    ## naming format: (You can change this as long as you put .xlsx in the end) \"(database)_(startnode)_to_(endnode)_n(cutoff_length)_res(restriction1)_(restriction2 and so on)_(directed or undirected).xlsx\"\n",
        "\n",
        "    ### We start with Node 1, and you calculate the Max Node for Node 2 (call this Max Node 2), \n",
        "    ### then we want to find the Max Node 3 connected to Max Node 2. \n",
        "    ## After that, we find the Max Node 4 connected to Max Node 3. We do this all the way to the last node. -Dr. Young\n",
        "    ### This code block is step 3-8 from Yumi's emails\n",
        "    ### No need to change anything here. You can run this code immediately.\n",
        "    max_path_nodes=[]\n",
        "    for i in range(len(nodenum_as_col)):\n",
        "        if i==0 or i==len(nodenum_as_col)-1:\n",
        "            curr_col=np.asarray(dict_to_df['Node'+str(i+1)])\n",
        "            max_path_nodes.append(ss.mode(curr_col)[0])\n",
        "        elif i==1:\n",
        "            prev_col=np.asarray(dict_to_df['Node'+str(i)])\n",
        "            curr_col=np.asarray(dict_to_df['Node'+str(i+1)])\n",
        "            a=[i for i in ss.mode(curr_col)[0]]\n",
        "            max_path_nodes.append(a)\n",
        "        else:\n",
        "            prev_col=np.asarray(dict_to_df['Node'+str(i)])\n",
        "            curr_col=np.asarray(dict_to_df['Node'+str(i+1)])\n",
        "            b=np.where(np.in1d(prev_col,a)==True)[0]\n",
        "            c={}\n",
        "            for m in range(len(b)):\n",
        "                c[curr_col[b[m]]]=collections.Counter(curr_col)[curr_col[b[m]]]\n",
        "            d=max(c.items(), key=operator.itemgetter(1))[0]\n",
        "            a=[d]\n",
        "            max_path_nodes.append(a)\n",
        "    max_path_nodes=np.asarray(max_path_nodes).flatten()\n",
        "    max_path_to_dict={'max_path_node'+str(i+1):max_path_nodes[i] for i in range(len(max_path_nodes))}\n",
        "    max_path_to_df = pd.DataFrame(max_path_to_dict, index=[0])\n",
        "    print(\"max_path is identified as:\",max_path_nodes)\n",
        "\n",
        "    \n",
        "    ### saving path as excel file\n",
        "    ## You can change the file name\n",
        "    max_path_to_df.to_excel(save_path+start_node+\"_to_\"+end_node+\"_l\"+str(cutoff_length)+\"max_path.xlsx\")\n",
        "    max_path_to_df.to_csv(save_path+start_node+\"_to_\"+end_node+\"_l\"+str(cutoff_length)+\"max_path.csv\")"
      ],
      "metadata": {
        "id": "5I2i9t4yP3wR",
        "cellView": "form"
      },
      "execution_count": null,
      "outputs": []
    },
    {
      "cell_type": "markdown",
      "source": [
        "## Check your data"
      ],
      "metadata": {
        "id": "eGxL3kF3VlrT"
      }
    },
    {
      "cell_type": "code",
      "source": [
        "load_path = \"/content/drive/MyDrive/PGC-Collab-2/Datasets/signor-database.xlsx\"\n",
        "save_path = \"/content/drive/MyDrive/PGC-Collab-2/new-paths/\"\n",
        "data = pd.read_excel(load_path) # read_csv if opening a csv file\n",
        "data.head(2)"
      ],
      "metadata": {
        "colab": {
          "base_uri": "https://localhost:8080/",
          "height": 249
        },
        "id": "1tpQRxWMVk11",
        "outputId": "634031e8-f297-46b0-d97f-829ea4749acc"
      },
      "execution_count": null,
      "outputs": [
        {
          "output_type": "execute_result",
          "data": {
            "text/plain": [
              "  ENTITYA    TYPEA     IDA DATABASEA ENTITYB    TYPEB     IDB DATABASEB  \\\n",
              "0   HTR1B  protein  P28222   UNIPROT   GNAI1  protein  P63096   UNIPROT   \n",
              "1   HTR1B  protein  P28222   UNIPROT   GNAI3  protein  P08754   UNIPROT   \n",
              "\n",
              "                  EFFECT MECHANISM  ... MODASEQ MODIFICATIONB  MODBSEQ  \\\n",
              "0  up-regulates activity   binding  ...     NaN           NaN      NaN   \n",
              "1  up-regulates activity   binding  ...     NaN           NaN      NaN   \n",
              "\n",
              "         PMID DIRECT            NOTES ANNOTATOR  \\\n",
              "0  31160049.0    YES  GPCR-Ga dataset     Luana   \n",
              "1  31160049.0    YES  GPCR-Ga dataset     Luana   \n",
              "\n",
              "                                            SENTENCE   SCORE      SIGNOR_ID  \n",
              "0  Here we systematically quantified ligand-induc...  0.1364  SIGNOR-256720  \n",
              "1  Here we systematically quantified ligand-induc...  0.1364  SIGNOR-256863  \n",
              "\n",
              "[2 rows x 28 columns]"
            ],
            "text/html": [
              "\n",
              "  <div id=\"df-af39fd97-90bb-4483-8612-94ddc5302647\">\n",
              "    <div class=\"colab-df-container\">\n",
              "      <div>\n",
              "<style scoped>\n",
              "    .dataframe tbody tr th:only-of-type {\n",
              "        vertical-align: middle;\n",
              "    }\n",
              "\n",
              "    .dataframe tbody tr th {\n",
              "        vertical-align: top;\n",
              "    }\n",
              "\n",
              "    .dataframe thead th {\n",
              "        text-align: right;\n",
              "    }\n",
              "</style>\n",
              "<table border=\"1\" class=\"dataframe\">\n",
              "  <thead>\n",
              "    <tr style=\"text-align: right;\">\n",
              "      <th></th>\n",
              "      <th>ENTITYA</th>\n",
              "      <th>TYPEA</th>\n",
              "      <th>IDA</th>\n",
              "      <th>DATABASEA</th>\n",
              "      <th>ENTITYB</th>\n",
              "      <th>TYPEB</th>\n",
              "      <th>IDB</th>\n",
              "      <th>DATABASEB</th>\n",
              "      <th>EFFECT</th>\n",
              "      <th>MECHANISM</th>\n",
              "      <th>...</th>\n",
              "      <th>MODASEQ</th>\n",
              "      <th>MODIFICATIONB</th>\n",
              "      <th>MODBSEQ</th>\n",
              "      <th>PMID</th>\n",
              "      <th>DIRECT</th>\n",
              "      <th>NOTES</th>\n",
              "      <th>ANNOTATOR</th>\n",
              "      <th>SENTENCE</th>\n",
              "      <th>SCORE</th>\n",
              "      <th>SIGNOR_ID</th>\n",
              "    </tr>\n",
              "  </thead>\n",
              "  <tbody>\n",
              "    <tr>\n",
              "      <th>0</th>\n",
              "      <td>HTR1B</td>\n",
              "      <td>protein</td>\n",
              "      <td>P28222</td>\n",
              "      <td>UNIPROT</td>\n",
              "      <td>GNAI1</td>\n",
              "      <td>protein</td>\n",
              "      <td>P63096</td>\n",
              "      <td>UNIPROT</td>\n",
              "      <td>up-regulates activity</td>\n",
              "      <td>binding</td>\n",
              "      <td>...</td>\n",
              "      <td>NaN</td>\n",
              "      <td>NaN</td>\n",
              "      <td>NaN</td>\n",
              "      <td>31160049.0</td>\n",
              "      <td>YES</td>\n",
              "      <td>GPCR-Ga dataset</td>\n",
              "      <td>Luana</td>\n",
              "      <td>Here we systematically quantified ligand-induc...</td>\n",
              "      <td>0.1364</td>\n",
              "      <td>SIGNOR-256720</td>\n",
              "    </tr>\n",
              "    <tr>\n",
              "      <th>1</th>\n",
              "      <td>HTR1B</td>\n",
              "      <td>protein</td>\n",
              "      <td>P28222</td>\n",
              "      <td>UNIPROT</td>\n",
              "      <td>GNAI3</td>\n",
              "      <td>protein</td>\n",
              "      <td>P08754</td>\n",
              "      <td>UNIPROT</td>\n",
              "      <td>up-regulates activity</td>\n",
              "      <td>binding</td>\n",
              "      <td>...</td>\n",
              "      <td>NaN</td>\n",
              "      <td>NaN</td>\n",
              "      <td>NaN</td>\n",
              "      <td>31160049.0</td>\n",
              "      <td>YES</td>\n",
              "      <td>GPCR-Ga dataset</td>\n",
              "      <td>Luana</td>\n",
              "      <td>Here we systematically quantified ligand-induc...</td>\n",
              "      <td>0.1364</td>\n",
              "      <td>SIGNOR-256863</td>\n",
              "    </tr>\n",
              "  </tbody>\n",
              "</table>\n",
              "<p>2 rows × 28 columns</p>\n",
              "</div>\n",
              "      <button class=\"colab-df-convert\" onclick=\"convertToInteractive('df-af39fd97-90bb-4483-8612-94ddc5302647')\"\n",
              "              title=\"Convert this dataframe to an interactive table.\"\n",
              "              style=\"display:none;\">\n",
              "        \n",
              "  <svg xmlns=\"http://www.w3.org/2000/svg\" height=\"24px\"viewBox=\"0 0 24 24\"\n",
              "       width=\"24px\">\n",
              "    <path d=\"M0 0h24v24H0V0z\" fill=\"none\"/>\n",
              "    <path d=\"M18.56 5.44l.94 2.06.94-2.06 2.06-.94-2.06-.94-.94-2.06-.94 2.06-2.06.94zm-11 1L8.5 8.5l.94-2.06 2.06-.94-2.06-.94L8.5 2.5l-.94 2.06-2.06.94zm10 10l.94 2.06.94-2.06 2.06-.94-2.06-.94-.94-2.06-.94 2.06-2.06.94z\"/><path d=\"M17.41 7.96l-1.37-1.37c-.4-.4-.92-.59-1.43-.59-.52 0-1.04.2-1.43.59L10.3 9.45l-7.72 7.72c-.78.78-.78 2.05 0 2.83L4 21.41c.39.39.9.59 1.41.59.51 0 1.02-.2 1.41-.59l7.78-7.78 2.81-2.81c.8-.78.8-2.07 0-2.86zM5.41 20L4 18.59l7.72-7.72 1.47 1.35L5.41 20z\"/>\n",
              "  </svg>\n",
              "      </button>\n",
              "      \n",
              "  <style>\n",
              "    .colab-df-container {\n",
              "      display:flex;\n",
              "      flex-wrap:wrap;\n",
              "      gap: 12px;\n",
              "    }\n",
              "\n",
              "    .colab-df-convert {\n",
              "      background-color: #E8F0FE;\n",
              "      border: none;\n",
              "      border-radius: 50%;\n",
              "      cursor: pointer;\n",
              "      display: none;\n",
              "      fill: #1967D2;\n",
              "      height: 32px;\n",
              "      padding: 0 0 0 0;\n",
              "      width: 32px;\n",
              "    }\n",
              "\n",
              "    .colab-df-convert:hover {\n",
              "      background-color: #E2EBFA;\n",
              "      box-shadow: 0px 1px 2px rgba(60, 64, 67, 0.3), 0px 1px 3px 1px rgba(60, 64, 67, 0.15);\n",
              "      fill: #174EA6;\n",
              "    }\n",
              "\n",
              "    [theme=dark] .colab-df-convert {\n",
              "      background-color: #3B4455;\n",
              "      fill: #D2E3FC;\n",
              "    }\n",
              "\n",
              "    [theme=dark] .colab-df-convert:hover {\n",
              "      background-color: #434B5C;\n",
              "      box-shadow: 0px 1px 3px 1px rgba(0, 0, 0, 0.15);\n",
              "      filter: drop-shadow(0px 1px 2px rgba(0, 0, 0, 0.3));\n",
              "      fill: #FFFFFF;\n",
              "    }\n",
              "  </style>\n",
              "\n",
              "      <script>\n",
              "        const buttonEl =\n",
              "          document.querySelector('#df-af39fd97-90bb-4483-8612-94ddc5302647 button.colab-df-convert');\n",
              "        buttonEl.style.display =\n",
              "          google.colab.kernel.accessAllowed ? 'block' : 'none';\n",
              "\n",
              "        async function convertToInteractive(key) {\n",
              "          const element = document.querySelector('#df-af39fd97-90bb-4483-8612-94ddc5302647');\n",
              "          const dataTable =\n",
              "            await google.colab.kernel.invokeFunction('convertToInteractive',\n",
              "                                                     [key], {});\n",
              "          if (!dataTable) return;\n",
              "\n",
              "          const docLinkHtml = 'Like what you see? Visit the ' +\n",
              "            '<a target=\"_blank\" href=https://colab.research.google.com/notebooks/data_table.ipynb>data table notebook</a>'\n",
              "            + ' to learn more about interactive tables.';\n",
              "          element.innerHTML = '';\n",
              "          dataTable['output_type'] = 'display_data';\n",
              "          await google.colab.output.renderOutput(dataTable, element);\n",
              "          const docLink = document.createElement('div');\n",
              "          docLink.innerHTML = docLinkHtml;\n",
              "          element.appendChild(docLink);\n",
              "        }\n",
              "      </script>\n",
              "    </div>\n",
              "  </div>\n",
              "  "
            ]
          },
          "metadata": {},
          "execution_count": 3
        },
        {
          "output_type": "stream",
          "name": "stdout",
          "text": [
            "Warning: Total number of columns (28) exceeds max_columns (20) limiting to first (20) columns.\n"
          ]
        }
      ]
    },
    {
      "cell_type": "markdown",
      "source": [
        "### Edit and run the block below"
      ],
      "metadata": {
        "id": "j4mhd_BvQ69Q"
      }
    },
    {
      "cell_type": "code",
      "source": [
        " find_simple_paths(start_node = 'ERBB2',  # starting node\n",
        "                   end_node = 'MYC',      # end node \n",
        "                   start_col = 1,         # column number for start node\n",
        "                   end_col = 5,           # column number for end node\n",
        "                   path = load_path,      # path of the data to be loaded (no need to edit anything here)\n",
        "                   save_path = save_path, # path where to save data       (no need to edit anything here)\n",
        "                   cutoff_length = 4,     # length of the path you would like to render\n",
        "                   directed=True,         # if you want the network to be directed, If note let directed=False\n",
        "                   res=[]                 # add restrictions to the paths\n",
        "                   )"
      ],
      "metadata": {
        "colab": {
          "base_uri": "https://localhost:8080/"
        },
        "id": "m7okIaMBQ6gw",
        "outputId": "7eec9859-0907-498f-9e0c-7dd96267415c"
      },
      "execution_count": null,
      "outputs": [
        {
          "output_type": "stream",
          "name": "stdout",
          "text": [
            "max_path is identified as: ['ERBB2' 'CDK1' 'RUNX1' 'MYC']\n"
          ]
        }
      ]
    },
    {
      "cell_type": "code",
      "source": [
        ""
      ],
      "metadata": {
        "id": "PbVx3hH2U7es"
      },
      "execution_count": null,
      "outputs": []
    }
  ]
}